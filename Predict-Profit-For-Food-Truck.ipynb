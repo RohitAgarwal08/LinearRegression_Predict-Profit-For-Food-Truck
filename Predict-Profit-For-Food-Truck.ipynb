{
  "nbformat": 4,
  "nbformat_minor": 0,
  "metadata": {
    "colab": {
      "name": "Untitled0.ipynb",
      "provenance": [],
      "collapsed_sections": [],
      "include_colab_link": true
    },
    "kernelspec": {
      "name": "python3",
      "display_name": "Python 3"
    }
  },
  "cells": [
    {
      "cell_type": "markdown",
      "metadata": {
        "id": "view-in-github",
        "colab_type": "text"
      },
      "source": [
        "<a href=\"https://colab.research.google.com/github/RohitAgarwal08/LinearRegression_Predict-Profit-For-Food-Truck/blob/master/Predict-Profit-For-Food-Truck.ipynb\" target=\"_parent\"><img src=\"https://colab.research.google.com/assets/colab-badge.svg\" alt=\"Open In Colab\"/></a>"
      ]
    },
    {
      "cell_type": "code",
      "metadata": {
        "id": "7LzUmEKTZP37",
        "colab_type": "code",
        "colab": {}
      },
      "source": [
        "import numpy as np\n",
        "import matplotlib.pyplot as plt\n",
        "\n",
        "data = np.loadtxt(\"/content/ex1data1.txt\",delimiter=\",\")\n",
        "data = np.array(data)\n",
        "\n",
        "X = data[:,:-1]\n",
        "Y = data[:,1:]"
      ],
      "execution_count": 0,
      "outputs": []
    },
    {
      "cell_type": "code",
      "metadata": {
        "id": "gIj4COeYd-Zo",
        "colab_type": "code",
        "colab": {
          "base_uri": "https://localhost:8080/",
          "height": 280
        },
        "outputId": "7765ce0b-9d90-4621-e201-e5060abe694e"
      },
      "source": [
        "plt.scatter(X,Y,color=\"red\",marker=\"x\")\n",
        "plt.xlabel(\"population in 10000's\")\n",
        "plt.ylabel(\"profit in 10000 $\")\n",
        "plt.show()"
      ],
      "execution_count": 46,
      "outputs": [
        {
          "output_type": "display_data",
          "data": {
            "image/png": "[encoded data removed]",
            "text/plain": [
              "<Figure size 432x288 with 1 Axes>"
            ]
          },
          "metadata": {
            "tags": []
          }
        }
      ]
    },
    {
      "cell_type": "code",
      "metadata": {
        "id": "Fffdvv5Pm2Yj",
        "colab_type": "code",
        "colab": {}
      },
      "source": [
        "m,n = X.shape\n",
        "X_bias = np.ones((m,2))\n",
        "\n",
        "X_bias[:,1:]= X\n",
        "\n",
        "Theta = np.ones((2,1))\n",
        "\n",
        "h=np.dot(X_bias,Theta)\n"
      ],
      "execution_count": 0,
      "outputs": []
    },
    {
      "cell_type": "code",
      "metadata": {
        "id": "vwgjYSuYVVaN",
        "colab_type": "code",
        "colab": {
          "base_uri": "https://localhost:8080/",
          "height": 357
        },
        "outputId": "a4c5adc4-ce12-4357-89b8-450dc6754d93"
      },
      "source": [
        "alpha = 0.01\n",
        "J=0\n",
        "for j in range(2000):\n",
        "  J0=0\n",
        "  J1=0\n",
        "  h=np.dot(X_bias,Theta)\n",
        "  for i in range(m):\n",
        "    J0 = J0 + ((alpha/m) * (h[i]-Y[i]))\n",
        "    J1 = J1 + ((alpha/m) * (h[i]-Y[i]) * X_bias[i,1])\n",
        "\n",
        "    J = J + ((h[i] - Y[i])**2)\n",
        "  J = (1 / (2 * m)) * J;\n",
        "  if(j%100) ==0:\n",
        "    print(J)\n",
        "\n",
        "  Theta[0,:] = Theta[0,:] - J0;\n",
        "  Theta[1,:] = Theta[1,:] - J1;\n",
        "\n"
      ],
      "execution_count": 143,
      "outputs": [
        {
          "output_type": "stream",
          "text": [
            "[10.26652049]\n",
            "[6.01068195]\n",
            "[5.55312827]\n",
            "[5.23417336]\n",
            "[5.01183392]\n",
            "[4.8568439]\n",
            "[4.74880231]\n",
            "[4.67348788]\n",
            "[4.62098714]\n",
            "[4.58438953]\n",
            "[4.55887781]\n",
            "[4.5410939]\n",
            "[4.52869697]\n",
            "[4.52005522]\n",
            "[4.51403117]\n",
            "[4.50983187]\n",
            "[4.5069046]\n",
            "[4.50486404]\n",
            "[4.50344158]\n",
            "[4.50245001]\n"
          ],
          "name": "stdout"
        }
      ]
    },
    {
      "cell_type": "code",
      "metadata": {
        "id": "hxuCe-NTbJT2",
        "colab_type": "code",
        "colab": {
          "base_uri": "https://localhost:8080/",
          "height": 280
        },
        "outputId": "d6ef1bc2-2b28-4e4a-9819-ef3d9b93ad11"
      },
      "source": [
        "plt.scatter(X,Y,40,color=\"red\",marker=\"x\")\n",
        "X_axis = X\n",
        "Y_axis = X_bias.dot(Theta)\n",
        "plt.plot(X_axis,Y_axis)\n",
        "plt.xlabel(\"population in 10000's\")\n",
        "plt.ylabel(\"profit in 10000 $\")\n",
        "plt.show()"
      ],
      "execution_count": 144,
      "outputs": [
        {
          "output_type": "display_data",
          "data": {
            "image/png": "[encoded data removed]",
            "text/plain": [
              "<Figure size 432x288 with 1 Axes>"
            ]
          },
          "metadata": {
            "tags": []
          }
        }
      ]
    },
    {
      "cell_type": "code",
      "metadata": {
        "id": "2ctmZuWmheAH",
        "colab_type": "code",
        "colab": {
          "base_uri": "https://localhost:8080/",
          "height": 51
        },
        "outputId": "29608c49-7b58-4121-a747-0175e9c8e832"
      },
      "source": [
        "X_test = np.array([[1,3.5],[1,7.5]])\n",
        "hypothesis = X_test.dot(Theta)\n",
        "print ('profit from 35000 people city is ',hypothesis[0,0]*10000,'$')\n",
        "print ('profit from 75000 people city is ',hypothesis[1,0]*10000,'$')"
      ],
      "execution_count": 145,
      "outputs": [
        {
          "output_type": "stream",
          "text": [
            "profit from 35000 people city is  3653.207794397204 $\n",
            "profit from 75000 people city is  50844.75979282992 $\n"
          ],
          "name": "stdout"
        }
      ]
    },
    {
      "cell_type": "code",
      "metadata": {
        "id": "bKN7S2ViiIIe",
        "colab_type": "code",
        "colab": {
          "base_uri": "https://localhost:8080/",
          "height": 279
        },
        "outputId": "9bb88745-5896-47f8-9591-2be686c71d52"
      },
      "source": [
        "plt.scatter(3.5,hypothesis[0,0],40,color=\"green\",marker=\"x\")\n",
        "plt.scatter(7.5,hypothesis[1,0],40,color=\"green\",marker=\"x\")\n",
        "plt.plot(X_axis,Y_axis)\n",
        "plt.xlabel(\"population in 10000's\")\n",
        "plt.ylabel(\"profit in 10000 $\")\n",
        "plt.show()"
      ],
      "execution_count": 153,
      "outputs": [
        {
          "output_type": "display_data",
          "data": {
            "image/png": "[encoded data removed]",
            "text/plain": [
              "<Figure size 432x288 with 1 Axes>"
            ]
          },
          "metadata": {
            "tags": []
          }
        }
      ]
    },
    {
      "cell_type": "code",
      "metadata": {
        "id": "rjve_7qWjFVj",
        "colab_type": "code",
        "colab": {}
      },
      "source": [
        ""
      ],
      "execution_count": 0,
      "outputs": []
    }
  ]
}